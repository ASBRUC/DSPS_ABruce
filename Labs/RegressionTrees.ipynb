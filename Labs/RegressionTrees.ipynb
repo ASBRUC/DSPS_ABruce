{
  "nbformat": 4,
  "nbformat_minor": 0,
  "metadata": {
    "colab": {
      "provenance": [],
      "include_colab_link": true
    },
    "kernelspec": {
      "name": "python3",
      "display_name": "Python 3"
    },
    "language_info": {
      "name": "python"
    }
  },
  "cells": [
    {
      "cell_type": "markdown",
      "metadata": {
        "id": "view-in-github",
        "colab_type": "text"
      },
      "source": [
        "<a href=\"https://colab.research.google.com/github/ASBRUC/DSPS_ABruce/blob/main/Labs/RegressionTrees.ipynb\" target=\"_parent\"><img src=\"https://colab.research.google.com/assets/colab-badge.svg\" alt=\"Open In Colab\"/></a>"
      ]
    },
    {
      "cell_type": "markdown",
      "source": [
        "[![github-badge](https://img.shields.io/badge/GitHub-sidchaini/TreeEnsembleTutorial-blue)](https://github.com/sidchaini/TreeEnsembleTutorial)\n",
        "\n",
        "**Siddharth Chaini, 28th October, 2025**\n",
        "\n",
        "(Thanks to Federica Bianco, Ashish Mahabal and Ajit Kembhavi)"
      ],
      "metadata": {
        "id": "0Tu9D9_4DNvp"
      }
    },
    {
      "cell_type": "markdown",
      "source": [
        "# Classifying Variable Stars from the Zwicky Transient Facility\n",
        "\n",
        "For this example, we will be using data from a paper of mine: [![arxiv-badge](https://img.shields.io/badge/arXiv-2403.12120-red)](https://arxiv.org/abs/2403.12120)\n",
        "\n",
        "The paper is about classifying variable stars, but for this tutorial, I created a sample version of this consisting of 4 classes of stars (500 objects from each class).\n",
        "\n",
        "We'll look at how to apply a random forest classifier as well as a boosted tree classifier."
      ],
      "metadata": {
        "id": "QWW5sdJID5p3"
      }
    },
    {
      "cell_type": "markdown",
      "source": [
        "## 0. Some Scientific Intro\n",
        "\n",
        "The 4 classes stars are:\n",
        "1. [Cepheid Variables](https://en.wikipedia.org/wiki/Cepheid_variable) (```CEP```)\n",
        "2. [Delta Scuti Variables](https://en.wikipedia.org/wiki/Delta_Scuti_variable) (```DSCT```)\n",
        "3. [Mira Variables](https://en.wikipedia.org/wiki/Mira_variable) (```Mira```)\n",
        "4. [RR Lyrae Variables](https://en.wikipedia.org/wiki/RR_Lyrae_variable) (```RR```)\n",
        "\n",
        "If you are interested in them, you can read more about them on their wikipedia pages (linked above).\n",
        "\n",
        "These are all variable stars: meaning, that their brightness changes over time.\n",
        "\n",
        "<img src=\"https://raw.githubusercontent.com/sidchaini/TreeEnsembleTutorial/refs/heads/main/animation.gif\" width=\"400\">\n",
        "\n",
        "Each of them have some features to separate them. A plot of brightness over time is called a \"light curve\". From these light curves, we can extract summary features.\n",
        "\n",
        "\n",
        "<img src=\"https://raw.githubusercontent.com/sidchaini/TreeEnsembleTutorial/refs/heads/main/lightcurve.png\" width=\"400\">\n",
        "\n",
        "We'll be looking at:\n",
        "1) **Period**: The time it takes for the star's brightness to complete one full cycle.\n",
        "2) **Amplitude**: The range of brightness variation (max brightness - min brightness).\n",
        "3) **Mean brightness**: The average brightness of the star.\n",
        "4) **Std dev in brightness**: The standard deviation of the brightness measurements.\n"
      ],
      "metadata": {
        "id": "Mt9tUp34Eo2x"
      }
    },
    {
      "cell_type": "markdown",
      "source": [
        "## 1. Data Preparation\n",
        "\n",
        "### 1.1. Loading the Data"
      ],
      "metadata": {
        "id": "bnzf4tKpF8yU"
      }
    },
    {
      "cell_type": "code",
      "source": [
        "import pandas as pd\n",
        "import numpy as np\n",
        "import matplotlib.pyplot as plt"
      ],
      "metadata": {
        "id": "NaWqVRLRD6NT"
      },
      "execution_count": 1,
      "outputs": []
    },
    {
      "cell_type": "code",
      "source": [
        "df = pd.read_csv(\"https://raw.githubusercontent.com/sidchaini/TreeEnsembleTutorial/refs/heads/main/variable_stars_ztf.csv\", index_col=0)\n",
        "df.head()"
      ],
      "metadata": {
        "id": "eEGtbMzHF572",
        "colab": {
          "base_uri": "https://localhost:8080/",
          "height": 237
        },
        "outputId": "7698f5a8-28b7-4d66-9284-6955a90f798a"
      },
      "execution_count": 2,
      "outputs": [
        {
          "output_type": "execute_result",
          "data": {
            "text/plain": [
              "        Period_band_r  Amplitude_r     Mean_r     Std_r class\n",
              "oid                                                          \n",
              "513675       6.331223     0.330910  13.259128  0.229492   CEP\n",
              "371805       2.818991     0.390815  15.791239  0.209911   CEP\n",
              "46919        5.239933     0.222290  12.635843  0.123101   CEP\n",
              "181873       2.251985     0.129499  14.097532  0.099477   CEP\n",
              "437874       0.577279     0.176992  15.804207  0.111430   CEP"
            ],
            "text/html": [
              "\n",
              "  <div id=\"df-1c569ad3-c764-485d-93c0-629db883a54b\" class=\"colab-df-container\">\n",
              "    <div>\n",
              "<style scoped>\n",
              "    .dataframe tbody tr th:only-of-type {\n",
              "        vertical-align: middle;\n",
              "    }\n",
              "\n",
              "    .dataframe tbody tr th {\n",
              "        vertical-align: top;\n",
              "    }\n",
              "\n",
              "    .dataframe thead th {\n",
              "        text-align: right;\n",
              "    }\n",
              "</style>\n",
              "<table border=\"1\" class=\"dataframe\">\n",
              "  <thead>\n",
              "    <tr style=\"text-align: right;\">\n",
              "      <th></th>\n",
              "      <th>Period_band_r</th>\n",
              "      <th>Amplitude_r</th>\n",
              "      <th>Mean_r</th>\n",
              "      <th>Std_r</th>\n",
              "      <th>class</th>\n",
              "    </tr>\n",
              "    <tr>\n",
              "      <th>oid</th>\n",
              "      <th></th>\n",
              "      <th></th>\n",
              "      <th></th>\n",
              "      <th></th>\n",
              "      <th></th>\n",
              "    </tr>\n",
              "  </thead>\n",
              "  <tbody>\n",
              "    <tr>\n",
              "      <th>513675</th>\n",
              "      <td>6.331223</td>\n",
              "      <td>0.330910</td>\n",
              "      <td>13.259128</td>\n",
              "      <td>0.229492</td>\n",
              "      <td>CEP</td>\n",
              "    </tr>\n",
              "    <tr>\n",
              "      <th>371805</th>\n",
              "      <td>2.818991</td>\n",
              "      <td>0.390815</td>\n",
              "      <td>15.791239</td>\n",
              "      <td>0.209911</td>\n",
              "      <td>CEP</td>\n",
              "    </tr>\n",
              "    <tr>\n",
              "      <th>46919</th>\n",
              "      <td>5.239933</td>\n",
              "      <td>0.222290</td>\n",
              "      <td>12.635843</td>\n",
              "      <td>0.123101</td>\n",
              "      <td>CEP</td>\n",
              "    </tr>\n",
              "    <tr>\n",
              "      <th>181873</th>\n",
              "      <td>2.251985</td>\n",
              "      <td>0.129499</td>\n",
              "      <td>14.097532</td>\n",
              "      <td>0.099477</td>\n",
              "      <td>CEP</td>\n",
              "    </tr>\n",
              "    <tr>\n",
              "      <th>437874</th>\n",
              "      <td>0.577279</td>\n",
              "      <td>0.176992</td>\n",
              "      <td>15.804207</td>\n",
              "      <td>0.111430</td>\n",
              "      <td>CEP</td>\n",
              "    </tr>\n",
              "  </tbody>\n",
              "</table>\n",
              "</div>\n",
              "    <div class=\"colab-df-buttons\">\n",
              "\n",
              "  <div class=\"colab-df-container\">\n",
              "    <button class=\"colab-df-convert\" onclick=\"convertToInteractive('df-1c569ad3-c764-485d-93c0-629db883a54b')\"\n",
              "            title=\"Convert this dataframe to an interactive table.\"\n",
              "            style=\"display:none;\">\n",
              "\n",
              "  <svg xmlns=\"http://www.w3.org/2000/svg\" height=\"24px\" viewBox=\"0 -960 960 960\">\n",
              "    <path d=\"M120-120v-720h720v720H120Zm60-500h600v-160H180v160Zm220 220h160v-160H400v160Zm0 220h160v-160H400v160ZM180-400h160v-160H180v160Zm440 0h160v-160H620v160ZM180-180h160v-160H180v160Zm440 0h160v-160H620v160Z\"/>\n",
              "  </svg>\n",
              "    </button>\n",
              "\n",
              "  <style>\n",
              "    .colab-df-container {\n",
              "      display:flex;\n",
              "      gap: 12px;\n",
              "    }\n",
              "\n",
              "    .colab-df-convert {\n",
              "      background-color: #E8F0FE;\n",
              "      border: none;\n",
              "      border-radius: 50%;\n",
              "      cursor: pointer;\n",
              "      display: none;\n",
              "      fill: #1967D2;\n",
              "      height: 32px;\n",
              "      padding: 0 0 0 0;\n",
              "      width: 32px;\n",
              "    }\n",
              "\n",
              "    .colab-df-convert:hover {\n",
              "      background-color: #E2EBFA;\n",
              "      box-shadow: 0px 1px 2px rgba(60, 64, 67, 0.3), 0px 1px 3px 1px rgba(60, 64, 67, 0.15);\n",
              "      fill: #174EA6;\n",
              "    }\n",
              "\n",
              "    .colab-df-buttons div {\n",
              "      margin-bottom: 4px;\n",
              "    }\n",
              "\n",
              "    [theme=dark] .colab-df-convert {\n",
              "      background-color: #3B4455;\n",
              "      fill: #D2E3FC;\n",
              "    }\n",
              "\n",
              "    [theme=dark] .colab-df-convert:hover {\n",
              "      background-color: #434B5C;\n",
              "      box-shadow: 0px 1px 3px 1px rgba(0, 0, 0, 0.15);\n",
              "      filter: drop-shadow(0px 1px 2px rgba(0, 0, 0, 0.3));\n",
              "      fill: #FFFFFF;\n",
              "    }\n",
              "  </style>\n",
              "\n",
              "    <script>\n",
              "      const buttonEl =\n",
              "        document.querySelector('#df-1c569ad3-c764-485d-93c0-629db883a54b button.colab-df-convert');\n",
              "      buttonEl.style.display =\n",
              "        google.colab.kernel.accessAllowed ? 'block' : 'none';\n",
              "\n",
              "      async function convertToInteractive(key) {\n",
              "        const element = document.querySelector('#df-1c569ad3-c764-485d-93c0-629db883a54b');\n",
              "        const dataTable =\n",
              "          await google.colab.kernel.invokeFunction('convertToInteractive',\n",
              "                                                    [key], {});\n",
              "        if (!dataTable) return;\n",
              "\n",
              "        const docLinkHtml = 'Like what you see? Visit the ' +\n",
              "          '<a target=\"_blank\" href=https://colab.research.google.com/notebooks/data_table.ipynb>data table notebook</a>'\n",
              "          + ' to learn more about interactive tables.';\n",
              "        element.innerHTML = '';\n",
              "        dataTable['output_type'] = 'display_data';\n",
              "        await google.colab.output.renderOutput(dataTable, element);\n",
              "        const docLink = document.createElement('div');\n",
              "        docLink.innerHTML = docLinkHtml;\n",
              "        element.appendChild(docLink);\n",
              "      }\n",
              "    </script>\n",
              "  </div>\n",
              "\n",
              "\n",
              "    <div id=\"df-95157886-3b73-4c98-8536-7a95e12e5c72\">\n",
              "      <button class=\"colab-df-quickchart\" onclick=\"quickchart('df-95157886-3b73-4c98-8536-7a95e12e5c72')\"\n",
              "                title=\"Suggest charts\"\n",
              "                style=\"display:none;\">\n",
              "\n",
              "<svg xmlns=\"http://www.w3.org/2000/svg\" height=\"24px\"viewBox=\"0 0 24 24\"\n",
              "     width=\"24px\">\n",
              "    <g>\n",
              "        <path d=\"M19 3H5c-1.1 0-2 .9-2 2v14c0 1.1.9 2 2 2h14c1.1 0 2-.9 2-2V5c0-1.1-.9-2-2-2zM9 17H7v-7h2v7zm4 0h-2V7h2v10zm4 0h-2v-4h2v4z\"/>\n",
              "    </g>\n",
              "</svg>\n",
              "      </button>\n",
              "\n",
              "<style>\n",
              "  .colab-df-quickchart {\n",
              "      --bg-color: #E8F0FE;\n",
              "      --fill-color: #1967D2;\n",
              "      --hover-bg-color: #E2EBFA;\n",
              "      --hover-fill-color: #174EA6;\n",
              "      --disabled-fill-color: #AAA;\n",
              "      --disabled-bg-color: #DDD;\n",
              "  }\n",
              "\n",
              "  [theme=dark] .colab-df-quickchart {\n",
              "      --bg-color: #3B4455;\n",
              "      --fill-color: #D2E3FC;\n",
              "      --hover-bg-color: #434B5C;\n",
              "      --hover-fill-color: #FFFFFF;\n",
              "      --disabled-bg-color: #3B4455;\n",
              "      --disabled-fill-color: #666;\n",
              "  }\n",
              "\n",
              "  .colab-df-quickchart {\n",
              "    background-color: var(--bg-color);\n",
              "    border: none;\n",
              "    border-radius: 50%;\n",
              "    cursor: pointer;\n",
              "    display: none;\n",
              "    fill: var(--fill-color);\n",
              "    height: 32px;\n",
              "    padding: 0;\n",
              "    width: 32px;\n",
              "  }\n",
              "\n",
              "  .colab-df-quickchart:hover {\n",
              "    background-color: var(--hover-bg-color);\n",
              "    box-shadow: 0 1px 2px rgba(60, 64, 67, 0.3), 0 1px 3px 1px rgba(60, 64, 67, 0.15);\n",
              "    fill: var(--button-hover-fill-color);\n",
              "  }\n",
              "\n",
              "  .colab-df-quickchart-complete:disabled,\n",
              "  .colab-df-quickchart-complete:disabled:hover {\n",
              "    background-color: var(--disabled-bg-color);\n",
              "    fill: var(--disabled-fill-color);\n",
              "    box-shadow: none;\n",
              "  }\n",
              "\n",
              "  .colab-df-spinner {\n",
              "    border: 2px solid var(--fill-color);\n",
              "    border-color: transparent;\n",
              "    border-bottom-color: var(--fill-color);\n",
              "    animation:\n",
              "      spin 1s steps(1) infinite;\n",
              "  }\n",
              "\n",
              "  @keyframes spin {\n",
              "    0% {\n",
              "      border-color: transparent;\n",
              "      border-bottom-color: var(--fill-color);\n",
              "      border-left-color: var(--fill-color);\n",
              "    }\n",
              "    20% {\n",
              "      border-color: transparent;\n",
              "      border-left-color: var(--fill-color);\n",
              "      border-top-color: var(--fill-color);\n",
              "    }\n",
              "    30% {\n",
              "      border-color: transparent;\n",
              "      border-left-color: var(--fill-color);\n",
              "      border-top-color: var(--fill-color);\n",
              "      border-right-color: var(--fill-color);\n",
              "    }\n",
              "    40% {\n",
              "      border-color: transparent;\n",
              "      border-right-color: var(--fill-color);\n",
              "      border-top-color: var(--fill-color);\n",
              "    }\n",
              "    60% {\n",
              "      border-color: transparent;\n",
              "      border-right-color: var(--fill-color);\n",
              "    }\n",
              "    80% {\n",
              "      border-color: transparent;\n",
              "      border-right-color: var(--fill-color);\n",
              "      border-bottom-color: var(--fill-color);\n",
              "    }\n",
              "    90% {\n",
              "      border-color: transparent;\n",
              "      border-bottom-color: var(--fill-color);\n",
              "    }\n",
              "  }\n",
              "</style>\n",
              "\n",
              "      <script>\n",
              "        async function quickchart(key) {\n",
              "          const quickchartButtonEl =\n",
              "            document.querySelector('#' + key + ' button');\n",
              "          quickchartButtonEl.disabled = true;  // To prevent multiple clicks.\n",
              "          quickchartButtonEl.classList.add('colab-df-spinner');\n",
              "          try {\n",
              "            const charts = await google.colab.kernel.invokeFunction(\n",
              "                'suggestCharts', [key], {});\n",
              "          } catch (error) {\n",
              "            console.error('Error during call to suggestCharts:', error);\n",
              "          }\n",
              "          quickchartButtonEl.classList.remove('colab-df-spinner');\n",
              "          quickchartButtonEl.classList.add('colab-df-quickchart-complete');\n",
              "        }\n",
              "        (() => {\n",
              "          let quickchartButtonEl =\n",
              "            document.querySelector('#df-95157886-3b73-4c98-8536-7a95e12e5c72 button');\n",
              "          quickchartButtonEl.style.display =\n",
              "            google.colab.kernel.accessAllowed ? 'block' : 'none';\n",
              "        })();\n",
              "      </script>\n",
              "    </div>\n",
              "\n",
              "    </div>\n",
              "  </div>\n"
            ],
            "application/vnd.google.colaboratory.intrinsic+json": {
              "type": "dataframe",
              "variable_name": "df",
              "summary": "{\n  \"name\": \"df\",\n  \"rows\": 2000,\n  \"fields\": [\n    {\n      \"column\": \"oid\",\n      \"properties\": {\n        \"dtype\": \"number\",\n        \"std\": 160214,\n        \"min\": 24,\n        \"max\": 631448,\n        \"num_unique_values\": 2000,\n        \"samples\": [\n          30950,\n          162838,\n          75030\n        ],\n        \"semantic_type\": \"\",\n        \"description\": \"\"\n      }\n    },\n    {\n      \"column\": \"Period_band_r\",\n      \"properties\": {\n        \"dtype\": \"number\",\n        \"std\": 139.91446556886726,\n        \"min\": 0.0501344375720645,\n        \"max\": 999.999952502551,\n        \"num_unique_values\": 1588,\n        \"samples\": [\n          0.4998158299052432,\n          0.4327032699122699,\n          0.6292223493960676\n        ],\n        \"semantic_type\": \"\",\n        \"description\": \"\"\n      }\n    },\n    {\n      \"column\": \"Amplitude_r\",\n      \"properties\": {\n        \"dtype\": \"number\",\n        \"std\": 0.691861085585842,\n        \"min\": 0.0270971999999991,\n        \"max\": 3.683662425,\n        \"num_unique_values\": 2000,\n        \"samples\": [\n          0.3328332750000022,\n          0.1236650749999999,\n          1.6076088000000004\n        ],\n        \"semantic_type\": \"\",\n        \"description\": \"\"\n      }\n    },\n    {\n      \"column\": \"Mean_r\",\n      \"properties\": {\n        \"dtype\": \"number\",\n        \"std\": 1.8416984944474195,\n        \"min\": 11.516850131662268,\n        \"max\": 20.430305330129872,\n        \"num_unique_values\": 2000,\n        \"samples\": [\n          16.872620100682592,\n          13.196287490314136,\n          14.285098665835411\n        ],\n        \"semantic_type\": \"\",\n        \"description\": \"\"\n      }\n    },\n    {\n      \"column\": \"Std_r\",\n      \"properties\": {\n        \"dtype\": \"number\",\n        \"std\": 0.4206083771895263,\n        \"min\": 0.0141668791062247,\n        \"max\": 2.512670343413449,\n        \"num_unique_values\": 2000,\n        \"samples\": [\n          0.1978714498664866,\n          0.0750230604823969,\n          1.0344315133000392\n        ],\n        \"semantic_type\": \"\",\n        \"description\": \"\"\n      }\n    },\n    {\n      \"column\": \"class\",\n      \"properties\": {\n        \"dtype\": \"category\",\n        \"num_unique_values\": 4,\n        \"samples\": [\n          \"DSCT\",\n          \"RR\",\n          \"CEP\"\n        ],\n        \"semantic_type\": \"\",\n        \"description\": \"\"\n      }\n    }\n  ]\n}"
            }
          },
          "metadata": {},
          "execution_count": 2
        }
      ]
    },
    {
      "cell_type": "code",
      "source": [
        "df[\"class\"].value_counts()"
      ],
      "metadata": {
        "id": "5cozsKSPLEam",
        "colab": {
          "base_uri": "https://localhost:8080/",
          "height": 241
        },
        "outputId": "e396deca-40b1-4420-9d63-fcf5b895ae93"
      },
      "execution_count": 3,
      "outputs": [
        {
          "output_type": "execute_result",
          "data": {
            "text/plain": [
              "class\n",
              "CEP     500\n",
              "DSCT    500\n",
              "Mira    500\n",
              "RR      500\n",
              "Name: count, dtype: int64"
            ],
            "text/html": [
              "<div>\n",
              "<style scoped>\n",
              "    .dataframe tbody tr th:only-of-type {\n",
              "        vertical-align: middle;\n",
              "    }\n",
              "\n",
              "    .dataframe tbody tr th {\n",
              "        vertical-align: top;\n",
              "    }\n",
              "\n",
              "    .dataframe thead th {\n",
              "        text-align: right;\n",
              "    }\n",
              "</style>\n",
              "<table border=\"1\" class=\"dataframe\">\n",
              "  <thead>\n",
              "    <tr style=\"text-align: right;\">\n",
              "      <th></th>\n",
              "      <th>count</th>\n",
              "    </tr>\n",
              "    <tr>\n",
              "      <th>class</th>\n",
              "      <th></th>\n",
              "    </tr>\n",
              "  </thead>\n",
              "  <tbody>\n",
              "    <tr>\n",
              "      <th>CEP</th>\n",
              "      <td>500</td>\n",
              "    </tr>\n",
              "    <tr>\n",
              "      <th>DSCT</th>\n",
              "      <td>500</td>\n",
              "    </tr>\n",
              "    <tr>\n",
              "      <th>Mira</th>\n",
              "      <td>500</td>\n",
              "    </tr>\n",
              "    <tr>\n",
              "      <th>RR</th>\n",
              "      <td>500</td>\n",
              "    </tr>\n",
              "  </tbody>\n",
              "</table>\n",
              "</div><br><label><b>dtype:</b> int64</label>"
            ]
          },
          "metadata": {},
          "execution_count": 3
        }
      ]
    },
    {
      "cell_type": "code",
      "source": [
        "feature_names = [\"Period_band_r\", \"Amplitude_r\", \"Mean_r\", \"Std_r\"]\n",
        "X = df[feature_names].to_numpy()\n",
        "y = df[\"class\"].to_numpy()"
      ],
      "metadata": {
        "id": "qmNpv2GrGGUk"
      },
      "execution_count": 4,
      "outputs": []
    },
    {
      "cell_type": "markdown",
      "source": [
        "### 1.2. Split into train-test"
      ],
      "metadata": {
        "id": "TF6pzY0MHIeW"
      }
    },
    {
      "cell_type": "code",
      "source": [
        "from sklearn.model_selection import train_test_split\n",
        "\n",
        "X_train, X_test, y_train, y_test = train_test_split(X, y, test_size=0.3, random_state=42, stratify=y)\n",
        "\n",
        "print(\"Shape of training features:\", X_train.shape)\n",
        "print(\"Shape of testing features:\", X_test.shape)\n",
        "print(\"Shape of training labels:\", y_train.shape)\n",
        "print(\"Shape of testing labels:\", y_test.shape)"
      ],
      "metadata": {
        "id": "jUr1jWCYHKBy",
        "colab": {
          "base_uri": "https://localhost:8080/"
        },
        "outputId": "4454e955-9bc7-4c06-d804-385686f6316f"
      },
      "execution_count": 5,
      "outputs": [
        {
          "output_type": "stream",
          "name": "stdout",
          "text": [
            "Shape of training features: (1400, 4)\n",
            "Shape of testing features: (600, 4)\n",
            "Shape of training labels: (1400,)\n",
            "Shape of testing labels: (600,)\n"
          ]
        }
      ]
    },
    {
      "cell_type": "code",
      "source": [
        "np.unique(y_train, return_counts=True)"
      ],
      "metadata": {
        "colab": {
          "base_uri": "https://localhost:8080/"
        },
        "id": "qMDxris0ihaE",
        "outputId": "e43c96be-888f-4758-9d4f-5839be31df6c"
      },
      "execution_count": 6,
      "outputs": [
        {
          "output_type": "execute_result",
          "data": {
            "text/plain": [
              "(array(['CEP', 'DSCT', 'Mira', 'RR'], dtype=object),\n",
              " array([350, 350, 350, 350]))"
            ]
          },
          "metadata": {},
          "execution_count": 6
        }
      ]
    },
    {
      "cell_type": "markdown",
      "source": [
        "## 2. Random Forest\n",
        "\n",
        "A Random Forest is an ensemble learning method that operates by constructing a many decision trees at training time, which are based on bagging. For a classification task, the final prediction is the class selected by most trees.\n",
        "\n",
        "Two important things to consider,\n",
        "\n",
        "- `max_depth`: This limits the maximum depth of each decision tree. A smaller depth can prevent overfitting by making the model less complex.\n",
        "- `random_state` (seed): This ensures that the randomness involved in building the forest (like bootstrapping samples and selecting features) is the same every time, making our model's results reproducible.\n",
        "\n",
        "\n",
        "---\n",
        "NOTE: The syntax for regression is very similar. You would just import and use `RandomForestRegressor` instead of `RandomForestClassifier`.\n"
      ],
      "metadata": {
        "id": "vWQV5nvTHLHp"
      }
    },
    {
      "cell_type": "markdown",
      "source": [
        "### 2.1. Instantiate and Train"
      ],
      "metadata": {
        "id": "8u3_d97fHWVY"
      }
    },
    {
      "cell_type": "code",
      "source": [
        "from sklearn.ensemble import RandomForestClassifier\n",
        "\n",
        "rf = RandomForestClassifier(\n",
        "    n_estimators=100,\n",
        "    max_depth=3,\n",
        "    n_jobs=-1, random_state=44)\n",
        "rf.fit(X_train, y_train)\n",
        "\n",
        "print(f\"Train Score: {rf.score(X_train, y_train):.2%}\")\n",
        "print(f\"Test Score: {rf.score(X_test, y_test):.2%}\")"
      ],
      "metadata": {
        "id": "Zz4kSBoMLgej",
        "colab": {
          "base_uri": "https://localhost:8080/"
        },
        "outputId": "6213e51f-768d-489a-fd73-f52937445249"
      },
      "execution_count": 9,
      "outputs": [
        {
          "output_type": "stream",
          "name": "stdout",
          "text": [
            "Train Score: 96.14%\n",
            "Test Score: 94.67%\n"
          ]
        }
      ]
    },
    {
      "cell_type": "code",
      "source": [
        "rf.predict_proba(X_test)"
      ],
      "metadata": {
        "colab": {
          "base_uri": "https://localhost:8080/"
        },
        "id": "QHVbfc5RlT8Z",
        "outputId": "46e423bd-642e-498c-e2fa-c2a684a74b8f"
      },
      "execution_count": 13,
      "outputs": [
        {
          "output_type": "execute_result",
          "data": {
            "text/plain": [
              "array([[0.18901463, 0.0568055 , 0.00254703, 0.75163284],\n",
              "       [0.18901463, 0.0568055 , 0.00254703, 0.75163284],\n",
              "       [0.00274144, 0.99725856, 0.        , 0.        ],\n",
              "       ...,\n",
              "       [0.7753415 , 0.01414256, 0.00760554, 0.2029104 ],\n",
              "       [0.78635834, 0.02384464, 0.00648358, 0.18331344],\n",
              "       [0.18901463, 0.0568055 , 0.00254703, 0.75163284]])"
            ]
          },
          "metadata": {},
          "execution_count": 13
        }
      ]
    },
    {
      "cell_type": "markdown",
      "source": [
        "### 2.2. Evaluate performance"
      ],
      "metadata": {
        "id": "IqP5EflqHaeC"
      }
    },
    {
      "cell_type": "code",
      "source": [
        "from sklearn.metrics import ConfusionMatrixDisplay, roc_curve, auc\n",
        "from sklearn.preprocessing import label_binarize\n",
        "\n",
        "\n",
        "fig, ax = plt.subplots()\n",
        "ConfusionMatrixDisplay.from_estimator(rf, X_test, y_test, cmap=plt.cm.Blues, ax=ax)\n",
        "ax.set_title(\"Confusion Matrix for Random Forest\")\n",
        "plt.show()"
      ],
      "metadata": {
        "id": "02n-BfkqLnUB",
        "colab": {
          "base_uri": "https://localhost:8080/",
          "height": 472
        },
        "outputId": "09beb6e5-7de9-4e57-83f2-d511e4b17559"
      },
      "execution_count": 10,
      "outputs": [
        {
          "output_type": "display_data",
          "data": {
            "text/plain": [
              "<Figure size 640x480 with 2 Axes>"
            ],
            "image/png": "[encoded data removed]"
          },
          "metadata": {}
        }
      ]
    },
    {
      "cell_type": "code",
      "source": [
        "def plot_roc_curve(y_test, rf):\n",
        "  y_test_binarized = label_binarize(y_test, classes=rf.classes_)\n",
        "  n_classes = y_test_binarized.shape[1]\n",
        "  y_prob_rf = rf.predict_proba(X_test)\n",
        "\n",
        "  fpr = dict()\n",
        "  tpr = dict()\n",
        "  roc_auc = dict()\n",
        "  for i in range(n_classes):\n",
        "      fpr[i], tpr[i], _ = roc_curve(y_test_binarized[:, i], y_prob_rf[:, i])\n",
        "      roc_auc[i] = auc(fpr[i], tpr[i])\n",
        "\n",
        "  plt.figure()\n",
        "  for i in range(n_classes):\n",
        "      plt.plot(fpr[i], tpr[i], lw=2,\n",
        "              label='{0} (area = {1:0.2f})'\n",
        "              ''.format(rf.classes_[i], roc_auc[i]))\n",
        "\n",
        "  plt.plot([0, 1], [0, 1], 'k--', lw=2)\n",
        "  plt.xlim([0.0, 1.0])\n",
        "  plt.ylim([0.0, 1.05])\n",
        "  plt.xlabel('False Positive Rate')\n",
        "  plt.ylabel('True Positive Rate')\n",
        "  plt.title('Multi-class ROC for Random Forest')\n",
        "  plt.legend(loc=\"lower right\")\n",
        "  plt.show()"
      ],
      "metadata": {
        "id": "Ep8gKnYcMGTl"
      },
      "execution_count": 11,
      "outputs": []
    },
    {
      "cell_type": "code",
      "source": [
        "plot_roc_curve(y_test, rf)"
      ],
      "metadata": {
        "id": "Mj-rqEIvMFsn",
        "colab": {
          "base_uri": "https://localhost:8080/",
          "height": 472
        },
        "outputId": "2ddbc864-0847-442c-867e-41638a9acd90"
      },
      "execution_count": 12,
      "outputs": [
        {
          "output_type": "display_data",
          "data": {
            "text/plain": [
              "<Figure size 640x480 with 1 Axes>"
            ],
            "image/png": "[encoded data removed]"
          },
          "metadata": {}
        }
      ]
    },
    {
      "cell_type": "markdown",
      "source": [
        "## 3. GradientBoostingClassifier\n",
        "A Gradient Boosting builds trees sequentially, and every new tree corrects the errors of the previous ones.\n",
        "\n",
        "NOTE: For regression, the syntax is again very analogous: you would use `GradientBoostingRegressor`.\n",
        "\n",
        "Also, another very popular implementation of gradient boosting is XGBoost. and is very similar: `from xgboost import XGBClassifier`.\n",
        "\n",
        "But we'll use `sklearn` for this tutorial.\n"
      ],
      "metadata": {
        "id": "_GL9-oj2Hoq7"
      }
    },
    {
      "cell_type": "markdown",
      "source": [
        "### 3.1. Instantiate and Train"
      ],
      "metadata": {
        "id": "tGYOQrjDNXcM"
      }
    },
    {
      "cell_type": "code",
      "source": [
        "from sklearn.ensemble import GradientBoostingClassifier\n",
        "\n",
        "gbt = GradientBoostingClassifier(\n",
        "    n_estimators=100,\n",
        "    max_depth=1,\n",
        "    random_state=44)\n",
        "\n",
        "gbt.fit(X_train, y_train)\n",
        "\n",
        "print(f\"Train Score: {gbt.score(X_train, y_train):.2%}\")\n",
        "print(f\"Test Score: {gbt.score(X_test, y_test):.2%}\")"
      ],
      "metadata": {
        "id": "hSlzzUKDHrHZ",
        "colab": {
          "base_uri": "https://localhost:8080/"
        },
        "outputId": "c94e3aeb-5f0b-43ab-ffd5-e82ecb554752"
      },
      "execution_count": 14,
      "outputs": [
        {
          "output_type": "stream",
          "name": "stdout",
          "text": [
            "Train Score: 96.50%\n",
            "Test Score: 94.50%\n"
          ]
        }
      ]
    },
    {
      "cell_type": "markdown",
      "source": [
        "### 3.2 Evaluate performance"
      ],
      "metadata": {
        "id": "oysZmeffNZRU"
      }
    },
    {
      "cell_type": "code",
      "source": [
        "fig, ax = plt.subplots(figsize=(8, 6))\n",
        "ConfusionMatrixDisplay.from_estimator(gbt, X_test, y_test, cmap=plt.cm.Blues, ax=ax)\n",
        "ax.set_title(\"Confusion Matrix for Gradient Boosting\")\n",
        "plt.show()"
      ],
      "metadata": {
        "id": "zAhNv-SCNVs3",
        "colab": {
          "base_uri": "https://localhost:8080/",
          "height": 564
        },
        "outputId": "b100274f-153b-4a40-8302-07a84cd181ec"
      },
      "execution_count": 15,
      "outputs": [
        {
          "output_type": "display_data",
          "data": {
            "text/plain": [
              "<Figure size 800x600 with 2 Axes>"
            ],
            "image/png": "[encoded data removed]"
          },
          "metadata": {}
        }
      ]
    },
    {
      "cell_type": "code",
      "source": [
        "plot_roc_curve(y_test, gbt)"
      ],
      "metadata": {
        "id": "IkgU4io_NeDv"
      },
      "execution_count": null,
      "outputs": []
    },
    {
      "cell_type": "markdown",
      "source": [
        "## 4. Feature importance"
      ],
      "metadata": {
        "id": "bS56U5mXH9Zw"
      }
    },
    {
      "cell_type": "code",
      "source": [
        "fistd = np.std([tree.feature_importances_ for tree in rf.estimators_], axis=0)\n",
        "importances_rf = rf.feature_importances_\n",
        "\n",
        "print(\"Random Forest feature importance:\")\n",
        "for f, fi, s in zip(feature_names, importances_rf, fistd):\n",
        "  print(f, fi.round(3), \"+/-\", s.round(3))\n",
        "\n",
        "indices_rf = np.argsort(importances_rf)\n",
        "\n",
        "plt.figure()\n",
        "plt.title(\"Feature importances (Random Forest)\")\n",
        "plt.barh(range(len(indices_rf)), importances_rf[indices_rf],\n",
        "         xerr=fistd[indices_rf], align=\"center\")\n",
        "plt.yticks(range(len(indices_rf)), [feature_names[i] for i in indices_rf])\n",
        "plt.xlabel(\"Importance\")\n",
        "plt.show()"
      ],
      "metadata": {
        "id": "IXP78mlnI-OF"
      },
      "execution_count": null,
      "outputs": []
    },
    {
      "cell_type": "code",
      "source": [
        "importances_gbt = gbt.feature_importances_\n",
        "indices_gbt = np.argsort(importances_gbt)\n",
        "\n",
        "print(\"\\nGradient Boosting feature importance:\")\n",
        "for f, fi in zip(feature_names, importances_gbt):\n",
        "  print(f, fi.round(3))\n",
        "\n",
        "\n",
        "plt.figure()\n",
        "plt.title(\"Feature importances (Gradient Boosting)\")\n",
        "plt.barh(range(len(indices_gbt)), importances_gbt[indices_gbt], align=\"center\")\n",
        "plt.yticks(range(len(indices_gbt)), [feature_names[i] for i in indices_gbt])\n",
        "plt.xlabel(\"Importance\")\n",
        "plt.show()"
      ],
      "metadata": {
        "id": "wqNGMuf1Nmv4"
      },
      "execution_count": null,
      "outputs": []
    },
    {
      "cell_type": "code",
      "source": [],
      "metadata": {
        "id": "uflUfFFINrYF"
      },
      "execution_count": null,
      "outputs": []
    }
  ]
}