{
  "nbformat": 4,
  "nbformat_minor": 0,
  "metadata": {
    "colab": {
      "provenance": [],
      "include_colab_link": true
    },
    "kernelspec": {
      "display_name": "Python 3",
      "language": "python",
      "name": "python3"
    },
    "language_info": {
      "codemirror_mode": {
        "name": "ipython",
        "version": 3
      },
      "file_extension": ".py",
      "mimetype": "text/x-python",
      "name": "python",
      "nbconvert_exporter": "python",
      "pygments_lexer": "ipython3",
      "version": "3.7.3"
    },
    "latex_envs": {
      "LaTeX_envs_menu_present": true,
      "autoclose": false,
      "autocomplete": true,
      "bibliofile": "biblio.bib",
      "cite_by": "apalike",
      "current_citInitial": 1,
      "eqLabelWithNumbers": true,
      "eqNumInitial": 1,
      "hotkeys": {
        "equation": "Ctrl-E",
        "itemize": "Ctrl-I"
      },
      "labels_anchors": false,
      "latex_user_defs": false,
      "report_style_numbering": false,
      "user_envs_cfg": false
    },
    "nbTranslate": {
      "displayLangs": [
        "*"
      ],
      "hotkey": "alt-t",
      "langInMainMenu": true,
      "sourceLang": "en",
      "targetLang": "fr",
      "useGoogleTranslate": true
    },
    "toc": {
      "base_numbering": 1,
      "nav_menu": {},
      "number_sections": true,
      "sideBar": true,
      "skip_h1_title": false,
      "title_cell": "Table of Contents",
      "title_sidebar": "Contents",
      "toc_cell": false,
      "toc_position": {},
      "toc_section_display": true,
      "toc_window_display": false
    }
  },
  "cells": [
    {
      "cell_type": "markdown",
      "metadata": {
        "id": "view-in-github",
        "colab_type": "text"
      },
      "source": [
        "<a href=\"https://colab.research.google.com/github/ASBRUC/DSPS_ABruce/blob/main/mboltzmanndistribution.ipynb\" target=\"_parent\"><img src=\"https://colab.research.google.com/assets/colab-badge.svg\" alt=\"Open In Colab\"/></a>"
      ]
    },
    {
      "cell_type": "markdown",
      "metadata": {
        "ExecuteTime": {
          "end_time": "2019-09-04T04:50:01.872913Z",
          "start_time": "2019-09-04T04:50:01.869703Z"
        },
        "id": "dk3tkh__KvAc"
      },
      "source": [
        " Written by Federica B. Bianco @fedhere\n",
        "UDel DSPS"
      ]
    },
    {
      "cell_type": "markdown",
      "source": [
        "I, Alex Bruce, worked with Zoe Beris on this assignment. We worked together to understand the Maxwell Boltzmann distribution as well as the central tendency statistics of the Chi-Squared distribution."
      ],
      "metadata": {
        "id": "fb2pjy7CpWQf"
      }
    },
    {
      "cell_type": "code",
      "metadata": {
        "ExecuteTime": {
          "end_time": "2019-09-07T17:36:53.625807Z",
          "start_time": "2019-09-07T17:36:53.393906Z"
        },
        "colab": {
          "base_uri": "https://localhost:8080/"
        },
        "id": "iQaonMUBqtX2",
        "outputId": "047b97e8-22c9-4e88-c73f-e606775737c9"
      },
      "source": [
        "from __future__ import print_function, division\n",
        "import numpy as np\n",
        "import scipy as sp\n",
        "from scipy import stats\n",
        "import pylab as pl\n",
        "%pylab inline\n"
      ],
      "execution_count": 2,
      "outputs": [
        {
          "output_type": "stream",
          "name": "stdout",
          "text": [
            "Populating the interactive namespace from numpy and matplotlib\n"
          ]
        }
      ]
    },
    {
      "cell_type": "markdown",
      "metadata": {
        "id": "zu5QKDi5b7vW"
      },
      "source": [
        "# Homework 1: Maxwell Boltzmann distribution"
      ]
    },
    {
      "cell_type": "markdown",
      "metadata": {
        "id": "ueaB0mHCO_iM"
      },
      "source": [
        "In Physics, statistics can help us describe the macroscopic behavior of a system if we know its microscopic properties in a statistical sense. We cannot know the motion of each molecule in a gas, but we can know the distribution of their velocities and positions.   In the mid to late 1800s, James Clerk Maxwell and Ludwig Boltzmann modeled the *distribution of speed of molecules in a gas*. As you probably know, and can intuitive realize, the speed of the molecules depends on the temperature of the gas, which is a macroscopic property, the velocity of the molecules is different for different gas temperatures. **This distribution of velocities is called the Maxwell-Boltzmann distribution.**\n"
      ]
    },
    {
      "cell_type": "markdown",
      "metadata": {
        "id": "7LpR51uQSvN9"
      },
      "source": [
        "It turns out that the Maxwel-Boltzmann distribution is a special case of the [*Chi distribution*](https://en.wikipedia.org/wiki/Chi_distribution). The parameter that controls the shape of a Chi distribution is called \"degrees of freedom\" and the Maxwel-Boltzmann distribution is a Chi distribution _with 3 degrees of freedom_, and with a scale parameter _a_ corresponding to the temperature in some way.\n"
      ]
    },
    {
      "cell_type": "markdown",
      "metadata": {
        "id": "Pc25lN9SUxQL"
      },
      "source": [
        "Below I have created 3 distributions. Based on the description above\n",
        "\n",
        "\n",
        "# 1) label the axes in the plot"
      ]
    },
    {
      "cell_type": "code",
      "metadata": {
        "ExecuteTime": {
          "end_time": "2019-09-07T17:36:56.493299Z",
          "start_time": "2019-09-07T17:36:56.021862Z"
        },
        "colab": {
          "base_uri": "https://localhost:8080/",
          "height": 466
        },
        "id": "LZm2afzhUwuG",
        "outputId": "a71cc225-4ac8-4708-e3aa-379ac64e3e91"
      },
      "source": [
        "np.random.randn(123)\n",
        "fig, ax = pl.subplots()\n",
        "for a in [0.2, 0.6, 1.0]:\n",
        "    ax.hist(sp.stats.chi.rvs(df=3, scale=a, size=1000), # could as well be sp.stats.maxwell.rvs(scale=a, size=1000)\n",
        "          bins=np.arange(0,5,0.1)-0.05, alpha=0.7,\n",
        "       label=\"a = %.1f\"%a);\n",
        "\n",
        "pl.legend();\n",
        "plt.xlabel('Speed')\n",
        "plt.ylabel('Counts')\n",
        "# your code to add labels here"
      ],
      "execution_count": 4,
      "outputs": [
        {
          "output_type": "execute_result",
          "data": {
            "text/plain": [
              "Text(0, 0.5, 'Counts')"
            ]
          },
          "metadata": {},
          "execution_count": 4
        },
        {
          "output_type": "display_data",
          "data": {
            "text/plain": [
              "<Figure size 640x480 with 1 Axes>"
            ],
            "image/png": "[encoded data removed]"
          },
          "metadata": {}
        }
      ]
    },
    {
      "cell_type": "markdown",
      "metadata": {
        "id": "MGdILsLAaopl"
      },
      "source": [
        "# 2) knowing that the *scale* parameter $a$  is a function of the temperature  *T*, and that the dependency is to a power 1/2, which is correct:\n",
        "   **$a \\propto \\sqrt{T}$**  or **$a \\propto \\sqrt{1/T}$**?\n",
        "\n",
        "   (in other words, is the dependency on the root of the temperature or on the inverse root of the temperature ?)\n"
      ]
    },
    {
      "cell_type": "markdown",
      "metadata": {
        "id": "vMGhorbvcrFM"
      },
      "source": [
        "The dependency of scale parameter a is related to the root of temperature. <br> From the above figure a larger scale factor results in higher speeds (which is related to temperature)."
      ]
    },
    {
      "cell_type": "markdown",
      "metadata": {
        "id": "hGeeXYttXLO1"
      },
      "source": [
        "\n",
        "# 3) What is the mean of all three distributions. How does it compare to the most probable molecular speed?\n",
        "From the wikipedia page of the Chi distribution find the formula of the mean of the Chi distribution. The distribution we are using has a scale parameter *a* in addition to the number of degrees of freedom. The mean scales linearly with this parameter:\n",
        "\n",
        "$\\mu_{\\mathrm{MB}, k, a} = a \\cdot \\mu_{\\mathrm{chi}, k}$\n",
        "\n",
        "Using the scipy function ```sp.special.gamma()``` to  calculate the gamma $\\Gamma$ function, and the definition of the mean from the [wikipwdia page of the Chi distribution](https://en.wikipedia.org/wiki/Chi_distribution)\n",
        "**calculate the mean of all three distributions. Compare it with the mean of the empirical distributions I generated in step 1. How does this mean compare to the most probable molecular speed.**\n",
        "(and does it look right based on the plots above?)"
      ]
    },
    {
      "cell_type": "markdown",
      "source": [
        "This is the equation for the mean:\n",
        "<br>\n",
        "![image.png](data:image/png;base64,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)"
      ],
      "metadata": {
        "id": "axJZLPJikI2m"
      }
    },
    {
      "cell_type": "code",
      "metadata": {
        "ExecuteTime": {
          "end_time": "2019-09-07T17:36:59.245480Z",
          "start_time": "2019-09-07T17:36:59.243338Z"
        },
        "id": "-8htAA4mRAVa",
        "colab": {
          "base_uri": "https://localhost:8080/"
        },
        "outputId": "d4810a15-721c-4f7f-9757-f2c2592b9ffb"
      },
      "source": [
        "#sp.stats.chi.rvs(df=3, scale=a, size=1000)\n",
        "#We have k = 3 degrees of freedom\n",
        "np.random.randn(123)\n",
        "k = 3;\n",
        "mean = 2**(0.5) * sp.special.gamma(2) / sp.special.gamma(1.5);\n",
        "print(\"Mean for Chi-Squared is:\",mean);\n",
        "print(\"\\nMean for scale a = 1 is:\", mean);\n",
        "print(\"Mean for scale a = 0.2 is:\", mean*0.2);\n",
        "print(\"Mean for scale a = 0.6 is:\", mean*0.6);\n",
        "\n",
        "distmeana = np.mean(sp.stats.chi.rvs(df=3, scale=0.2, size=1000))\n",
        "distmeanb = np.mean(sp.stats.chi.rvs(df=3, scale=1.0, size=1000))\n",
        "distmeanc = np.mean(sp.stats.chi.rvs(df=3, scale=0.6, size=1000))\n",
        "\n",
        "print(\"\\nEmpirical means:\");\n",
        "print(\"Distribution mean for a = 1 is:\", distmeanb);\n",
        "print(\"Distribution mean for a = 0.2 is:\", distmeana);\n",
        "print(\"Distribution mean for a = 0.6 is:\", distmeanc);\n",
        "\n",
        "print(\"\\n The percent differences between the empirical and theoretical means are:\")\n",
        "print(\"Percent difference for means of scale a = 1.0:\",abs((mean - distmeanb)/mean * 100));\n",
        "print(\"Percent difference for means of scale a = 0.2:\",abs(((mean * 0.2) - distmeana)/(mean * 0.2) * 100));\n",
        "print(\"Percent difference for means of scale a = 0.6:\",abs(((mean * 0.6) - distmeanc)/(mean * 0.6) * 100));\n",
        "\n"
      ],
      "execution_count": 23,
      "outputs": [
        {
          "output_type": "stream",
          "name": "stdout",
          "text": [
            "Mean for Chi-Squared is: 1.595769121605731\n",
            "\n",
            "Mean for scale a = 1 is: 1.595769121605731\n",
            "Mean for scale a = 0.2 is: 0.31915382432114625\n",
            "Mean for scale a = 0.6 is: 0.9574614729634385\n",
            "\n",
            "Empirical means:\n",
            "Distribution mean for a = 1 is: 1.5961672023792413\n",
            "Distribution mean for a = 0.2 is: 0.3211744952771193\n",
            "Distribution mean for a = 0.6 is: 0.9693762807938207\n",
            "\n",
            " The percent differences between the empirical and theoretical means are:\n",
            "Percent difference for means of scale a = 1.0: 0.024946013061692616\n",
            "Percent difference for means of scale a = 0.2: 0.6331338689959546\n",
            "Percent difference for means of scale a = 0.6: 1.2444164247679448\n"
          ]
        }
      ]
    },
    {
      "cell_type": "markdown",
      "metadata": {
        "id": "r7oes80EQER-"
      },
      "source": [
        "This really only holds for perfect gasses, which means under 4 assumptions:\n",
        "- the diameter of the molecules is much smaller than the distance between them\n",
        "- the collisions between molecules conserve energy\n",
        "- the molecules do not interact between collisions and are not subject to any other forces (move at constant speed in a straight line)\n",
        "- the initial position and velocity are random."
      ]
    },
    {
      "cell_type": "markdown",
      "metadata": {
        "id": "3PJ9hjLzQjyA"
      },
      "source": [
        "# Extra Credit:\n",
        "\n",
        "can you create a python (2D) simulation where the molecules behave as describe and calculate their speed evolution from an initial speed that is gaussian distributed? (rather hard!!)\n"
      ]
    },
    {
      "cell_type": "code",
      "source": [],
      "metadata": {
        "id": "WytHQjFFpHPB"
      },
      "execution_count": null,
      "outputs": []
    }
  ]
}